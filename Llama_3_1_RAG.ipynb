{
  "nbformat": 4,
  "nbformat_minor": 0,
  "metadata": {
    "colab": {
      "provenance": [],
      "gpuType": "T4",
      "include_colab_link": true
    },
    "kernelspec": {
      "name": "python3",
      "display_name": "Python 3"
    },
    "language_info": {
      "name": "python"
    },
    "accelerator": "GPU"
  },
  "cells": [
    {
      "cell_type": "markdown",
      "metadata": {
        "id": "view-in-github",
        "colab_type": "text"
      },
      "source": [
        "<a href=\"https://colab.research.google.com/github/hVie1314/olama_google_colab/blob/main/Llama_3_1_RAG.ipynb\" target=\"_parent\"><img src=\"https://colab.research.google.com/assets/colab-badge.svg\" alt=\"Open In Colab\"/></a>"
      ]
    },
    {
      "cell_type": "code",
      "source": [
        "!curl -fsSL https://ollama.com/install.sh | sh\n",
        "!pip -qq install langchain langchain-core langchain-community\n",
        "!pip install colab-xterm"
      ],
      "metadata": {
        "id": "sbq7rZiTTP5Z"
      },
      "execution_count": null,
      "outputs": []
    },
    {
      "cell_type": "code",
      "execution_count": null,
      "metadata": {
        "id": "jRyjEafYQu_T"
      },
      "outputs": [],
      "source": [
        "%load_ext colabxterm\n",
        "%xterm\n",
        "\n",
        "# TODO: Run this line inside xterm\n",
        "# ollama serve & ollama pull llama3.1 & ollama pull nomic-embed-text"
      ]
    },
    {
      "cell_type": "code",
      "source": [
        "from langchain_community.llms import Ollama\n",
        "\n",
        "llm = Ollama(model=\"llama3.1\")\n",
        "\n",
        "response = llm.invoke(\"What is the meaning of life?\")\n",
        "print(response)"
      ],
      "metadata": {
        "id": "wx3iazknRweg",
        "colab": {
          "base_uri": "https://localhost:8080/"
        },
        "outputId": "02b4db86-e888-4a61-e7e6-7734ae537d41"
      },
      "execution_count": null,
      "outputs": [
        {
          "output_type": "stream",
          "name": "stdout",
          "text": [
            "The ultimate question!\n",
            "\n",
            "The meaning of life is a complex and subjective concept that has been debated by philosophers, theologians, scientists, and thinkers for centuries. There's no one definitive answer, but I'll try to provide some perspectives and ideas.\n",
            "\n",
            "**Philosophical views:**\n",
            "\n",
            "1. **Existentialism**: This perspective suggests that life has no inherent meaning; it's up to each individual to create their own purpose.\n",
            "2. **Hedonism**: The pursuit of happiness and pleasure is considered the ultimate goal, with life being a series of experiences to be enjoyed.\n",
            "3. **Utilitarianism**: The greatest good for the greatest number is the guiding principle, with actions motivated by a desire to maximize overall well-being.\n",
            "\n",
            "**Religious perspectives:**\n",
            "\n",
            "1. **Christianity**: Life's meaning is found in serving God and fulfilling one's spiritual purpose.\n",
            "2. **Buddhism**: The aim is to achieve enlightenment and end suffering through self-realization and understanding of the universe.\n",
            "3. **Hinduism**: Life is a journey towards spiritual growth, with reincarnation and karma playing key roles.\n",
            "\n",
            "**Scientific perspectives:**\n",
            "\n",
            "1. **Biological view**: Life's purpose is to perpetuate the species through reproduction and survival of the fittest.\n",
            "2. **Cognitive perspective**: The human brain evolved to perceive, process, and respond to information, suggesting that life's meaning lies in understanding and navigating the world around us.\n",
            "\n",
            "**Modern perspectives:**\n",
            "\n",
            "1. **Personal growth**: Life's meaning is found in personal development, learning, and self-improvement.\n",
            "2. **Human connection**: Meaning arises from relationships, love, and social bonds with others.\n",
            "3. **Purpose-driven life**: A sense of purpose or mission can provide direction and fulfillment.\n",
            "\n",
            "Ultimately, the meaning of life may be:\n",
            "\n",
            "* A subjective experience that varies from person to person\n",
            "* A dynamic concept that evolves as we grow and learn\n",
            "* A mystery that cannot be fully grasped by human understanding\n",
            "\n",
            "What do you think? What gives your life meaning?\n"
          ]
        }
      ]
    },
    {
      "cell_type": "code",
      "source": [
        "!ollama pull llama3.1 & ollama pull nomic-embed-text"
      ],
      "metadata": {
        "id": "PbwX5idyGaYo"
      },
      "execution_count": null,
      "outputs": []
    },
    {
      "cell_type": "code",
      "source": [
        "!pip install gradio ollama chromadb"
      ],
      "metadata": {
        "id": "rXPYn-zJVfOA"
      },
      "execution_count": null,
      "outputs": []
    },
    {
      "cell_type": "code",
      "source": [
        "import ollama\n",
        "from bs4 import BeautifulSoup as bs\n",
        "from langchain.text_splitter import RecursiveCharacterTextSplitter\n",
        "from langchain_community.document_loaders import WebBaseLoader\n",
        "from langchain_community.vectorstores import Chroma\n",
        "from langchain_community.embeddings import OllamaEmbeddings\n",
        "\n",
        "# Load the data from the web URL\n",
        "url = 'https://vnexpress.net/de-xuat-thoi-gian-lam-viec-du-ngan-de-nam-nu-co-thoi-gian-tim-ban-doi-4778404.html'\n",
        "loader = WebBaseLoader(url)\n",
        "docs = loader.load()\n",
        "\n",
        "# or load the text from pdf\n",
        "# path = \"../data/Understanding_Climate_Change.pdf\"\n",
        "# loader = PyPDFLoader(path)\n",
        "# documents = loader.load()\n",
        "\n",
        "# Split the loaded documents into chunks\n",
        "text_splitter = RecursiveCharacterTextSplitter(chunk_size=1000, chunk_overlap=200)\n",
        "splits = text_splitter.split_documents(docs)\n",
        "\n",
        "# Create Ollama embeddings and vector store\n",
        "embeddings = OllamaEmbeddings(model=\"nomic-embed-text\") # or use (model = \"llama3\")\n",
        "vectorstore = Chroma.from_documents(documents=splits, embedding=embeddings)\n",
        "\n",
        "# Define the function to call the Ollama Llama3 model\n",
        "def ollama_llm(question, context):\n",
        "    formatted_prompt = f\"Question: {question}\\n\\nContext: {context}\"\n",
        "    response = ollama.chat(model='llama3.1', messages=[{'role': 'user', 'content': formatted_prompt}])\n",
        "    return response['message']['content']\n",
        "\n",
        "# Define the RAG setup\n",
        "retriever = vectorstore.as_retriever() # as_retriever(search_kwargs={\"k\": 2})\n",
        "\n",
        "def rag_chain(question):\n",
        "    retrieved_docs = retriever.invoke(question)\n",
        "    formatted_context = \"\\n\\n\".join(doc.page_content for doc in retrieved_docs)\n",
        "    return ollama_llm(question, formatted_context)\n",
        "\n",
        "# Define the Gradio interface\n",
        "def get_important_facts(question):\n",
        "    return rag_chain(question)\n",
        "\n"
      ],
      "metadata": {
        "id": "sqHcRXDPVSfE",
        "colab": {
          "base_uri": "https://localhost:8080/"
        },
        "outputId": "8fc994b2-f45b-4137-c17f-d1de79c79a63"
      },
      "execution_count": null,
      "outputs": [
        {
          "output_type": "stream",
          "name": "stderr",
          "text": [
            "WARNING:langchain_community.utils.user_agent:USER_AGENT environment variable not set, consider setting it to identify your requests.\n"
          ]
        }
      ]
    },
    {
      "cell_type": "code",
      "source": [
        "# Giao diện nhập liệu form bên trong Colab\n",
        "import gradio as gr\n",
        "iface = gr.Interface(\n",
        "  fn=get_important_facts,\n",
        "  inputs=gr.Textbox(lines=2, placeholder=\"Enter your question here...\"),\n",
        "  outputs=\"text\",\n",
        "  title=\"RAG with Llama3.1\",\n",
        "  description=\"Ask questions about the provided context\",\n",
        ")\n",
        "\n",
        "# Launch the Gradio app\n",
        "iface.launch()"
      ],
      "metadata": {
        "id": "Gz82MCMdfHUj"
      },
      "execution_count": null,
      "outputs": []
    },
    {
      "cell_type": "code",
      "source": [
        "print(get_important_facts(\"suggest questions for the document in Vietnamese\"))"
      ],
      "metadata": {
        "id": "eBzhw20qfJ37",
        "colab": {
          "base_uri": "https://localhost:8080/"
        },
        "outputId": "a903b6f4-6534-4018-80c2-3f10731bf9b2"
      },
      "execution_count": null,
      "outputs": [
        {
          "output_type": "stream",
          "name": "stdout",
          "text": [
            "Dưới đây là một số câu hỏi có thể đặt cho văn bản này:\n",
            "\n",
            "1. **Thời gian làm việc đủ ngắn để nam nữ tìm bạn đời?**: Câu hỏi này liên quan đến đề xuất của GS.TS Nguyễn Thiện Nhân về thời gian làm việc đủ ngắn (8 giờ lao động/ngày, 40 giờ/tuần) để người lao động có thể tìm bạn đời và chăm sóc gia đình.\n",
            "\n",
            "2. **Lý do kết hôn muộn hoặc không kết hôn?**: Câu hỏi này liên quan đến lý do khiến nhiều người lựa chọn cuộc sống độc thân hoặc kết hôn muộn, bao gồm họ bận rộn công việc, gặp khó khăn về tài chính...\n",
            "\n",
            "3. **Tổng tỷ suất sinh của Việt Nam sẽ tiếp tục giảm sâu hơn và duy trì lâu dài?**: Câu hỏi này liên quan đến dự báo của GS.TS Nguyễn Thiện Nhân về tổng tỷ suất sinh của Việt Nam.\n",
            "\n",
            "4. **Đề xuất bỏ quy định mỗi cặp vợ chồng chỉ sinh 1-2 con?**: Câu hỏi này liên quan đến đề xuất của ông Lê Thanh Dũng, Cục trưởng Dân số (Bộ Y tế) về việc trao quyền quyết định số con cho vợ chồng.\n",
            "\n",
            "5. **Thời gian làm việc của người lao động ở Việt Nam hiện nay là bao nhiêu?**: Câu hỏi này liên quan đến thông tin về giờ làm việc bình thường không quá 8 giờ mỗi ngày và 48 tiếng mỗi tuần theo Bộ luật Lao động.\n",
            "\n",
            "6. **Có kế hoạch giảm giờ làm trong tuần của lao động khu vực tư nhân?**: Câu hỏi này liên quan đến thông tin về việc xây dựng lộ trình giảm giờ làm trong tuần của lao động khu vực tư nhân từ 48 xuống 44, tiến tới 40 giờ theo kiến nghị của Công đoàn.\n",
            "\n",
            "7. **Giờ làm khu vực nhà nước ở Việt Nam hiện nay là bao nhiêu?**: Câu hỏi này liên quan đến thông tin về giờ làm khu vực nhà nước 40 tiếng mỗi tuần, 8 tiếng mỗi ngày được điều chỉnh bởi Quyết định 188/1999 của Thủ tướng.\n"
          ]
        }
      ]
    }
  ]
}